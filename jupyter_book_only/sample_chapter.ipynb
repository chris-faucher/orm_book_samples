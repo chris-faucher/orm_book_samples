{
 "cells": [
  {
   "attachments": {},
   "cell_type": "markdown",
   "metadata": {},
   "source": [
    "(unique_chapter_id_01)=\n",
    "# Chapter Title\n",
    "\n",
    "Chapter text begins here. Replace any of this placeholder text with your opus. The following portion outlines heading levels and section structure.\n",
    "\n",
    "## This Is a Top-Level Heading (A-Head)\n",
    "\n",
    "Within a chapter, the first and highest heading level uses three equals signs.\n",
    "\n",
    "### This Is a Second-Level Heading (B-Head)\n",
    "\n",
    "The second-level heading uses four equals signs. This heading level should only follow a top-level heading (A-head).\n",
    "\n",
    "#### This Is a Third-Level Heading (C-Head)\n",
    "\n",
    "The third-level heading uses five equals signs. This heading level should only follow a second-level heading (B-head).\n",
    "\n",
    "Next we've included a few examples of commonly used block elements.\n",
    "\n",
    "\n",
    "```{admonition} This Is a Note With a Title\n",
    ":class: note\n",
    "\n",
    "Many people use notes to qualify a statement they made in the preceding paragraphs, or to warn their readers about pitfalls they might run into. Mind the special syntax required to include a title.\n",
    "```\n",
    "\n",
    "```{warning}\n",
    "This is a warning, used to alert readers to something important or encourage caution. Headings are optional for admonitions like notes and warnings.\n",
    "```\n",
    "\n",
    "Here is an executable code listing:"
   ]
  },
  {
   "cell_type": "code",
   "execution_count": 1,
   "metadata": {},
   "outputs": [
    {
     "name": "stdout",
     "output_type": "stream",
     "text": [
      "hello world\n"
     ]
    }
   ],
   "source": [
    "print('hello world')"
   ]
  },
  {
   "attachments": {},
   "cell_type": "markdown",
   "metadata": {},
   "source": [
    "And here follows a formal code example ({ref}`code_example`). Note that the cell has an \"example\" tag added to its metadata."
   ]
  },
  {
   "cell_type": "code",
   "execution_count": 1,
   "metadata": {
    "tags": [
     "example"
    ]
   },
   "outputs": [],
   "source": [
    "def my_example_func():\n",
    "    return \"This is an example!\""
   ]
  },
  {
   "attachments": {},
   "cell_type": "markdown",
   "metadata": {},
   "source": [
    "Python and R blocks (that use the `rpy2` syntax) will automatically have syntax higlighting applied.\n",
    "\n",
    "You can also specify inline text as code: `print \"Hello World\"`.\n",
    "\n",
    "Now, let's take a look at a figure with a caption ([](tarsier)):\n",
    "\n",
    "\n",
    "```{figure} images/tarsier.png\n",
    "---\n",
    "name: tarsier\n",
    "---\n",
    "Drawing of Tarsiers\n",
    "```\n",
    "\n",
    "Here is a blockquote with an author attribution:\n",
    "\n",
    "```{epigraph}\n",
    "Alice was beginning to get very tired of sitting by her sister on the bank, and of having nothing to do: once or twice she had peeped into the book her sister was reading, but it had no pictures or conversations in it, 'and what is the use of a book,' thought Alice 'without pictures or conversation?'\n",
    "\n",
    "-- Lewis Carol\n",
    "```"
   ]
  },
  {
   "attachments": {},
   "cell_type": "markdown",
   "metadata": {},
   "source": [
    "\n",
    "There are three types of lists available. Numbered (ordered) lists are often used to describe steps in a process:\n",
    "\n",
    "1. Parse the request.\n",
    "2. Choose a handler function.\n",
    "3. Run the handler function.\n",
    "\n",
    "Bulleted (unordered) lists are good for describing a set of requirements:\n",
    "\n",
    "* HTML source\n",
    "* CSS stylesheets\n",
    "* JavaScript code\n",
    "\n",
    "Definition/variable lists serve as glossaries of terminology:\n",
    "\n",
    "`selectSource`\n",
    ": Returns a Source containing all the IDs and values from the database. This allows you to write streaming code.\n",
    "\n",
    "`selectList`\n",
    ": Returns a list containing all the IDs and values from the database. All records will be loaded into memory.\n",
    "\n",
    "`selectFirst`\n",
    ": Takes just the first ID and value from the database, if available.\n",
    "\n",
    "`selectKeys`\n",
    ": Returns only the keys, without the values, as a +Source+."
   ]
  },
  {
   "attachments": {},
   "cell_type": "markdown",
   "metadata": {},
   "source": [
    "\n",
    "```{sidebar} Sidebar Title\n",
    "Here's a sidebar. Sidebars are great for setting aside a section of text that is related to the surrounding content but that doesn't necessarily fit into the main flow.\n",
    "```"
   ]
  },
  {
   "attachments": {},
   "cell_type": "markdown",
   "metadata": {},
   "source": [
    "\n",
    "Finally, here's a sample table:\n",
    "\n",
    "```{list-table} Features supported by Hadoop release series\n",
    ":header-rows: 1\n",
    ":name: sample_table\n",
    "\n",
    "* - Feature\n",
    "  - 1.x\n",
    "  - 0.22\n",
    "  - 2.x\n",
    "* - Secure authentication\n",
    "  - Yes\n",
    "  - No\n",
    "  - Yes\n",
    "* - Old configuration names\n",
    "  - Yes\n",
    "  - Deprecated\n",
    "  - Deprecated\n",
    "* - New configuration names\n",
    "  - No\n",
    "  - Yes\n",
    "  - Yes\n",
    "* - Old MapReduce API\n",
    "  - Yes\n",
    "  - Yes\n",
    "  - Yes\n",
    "* - New MapReduce API\n",
    "  - Yes (with some missing libraries)\n",
    "  - Yes\n",
    "  - Yes\n",
    "```\n",
    "\n",
    "To insert a cross-reference, first add a block ID for the element to which you're referring. The block ID is a unique identifier. Each block has a specific syntax. For example, a heading ID would be added in parenthesis followed by an equals sign:\n",
    "\n",
    "```\n",
    "(unique_id_01)=\n",
    "## A Section Title\n",
    "```\n",
    "\n",
    "(See the [Jupyter Book documentation](https://jupyterbook.org/en/stable/intro.html) for more types of ID anchoring.)\n",
    "\n",
    "Here's a cross-reference to {ref}`ch01`. Here's one to {ref}`unique_id_02`. Finally, here's one to {ref}`unique_chapter_id_01`.\n",
    "\n",
    "For the book to be valid, IDs must be unique across the entire book, have no spaces, and not start with a number.\n",
    "\n",
    "```{tip}\n",
    "While it's still best practice to ensure your IDs are unique, the script Atlas uses in the backend will force/ensure your IDs are unique across the book.\n",
    "```\n",
    "\n",
    "O'Reilly house style calls for every formal figure, formal table, and formal code example to be preceded by a specific in-text reference. Formal figures and formal tables are created when you add captions to these elements.\n",
    "\n",
    "To include hyperlinks to external sources, add the anchor text enclosed in single square brackets followed by the full URL in parentheses. This, for example, is a link to the [O'Reilly home page](https://www.oreilly.com). You may also use [alternate link syntaxes][link_syntaxes] if you prefer. The bracketed text will become a clickable link in web versions. In print versions, it will appear in the text, followed by the actual URL in parentheses.\n",
    "\n",
    "[link_syntaxes]: https://jupyterbook.org/en/stable/reference/cheatsheet.html#links"
   ]
  }
 ],
 "metadata": {
  "kernelspec": {
   "display_name": "Python 3",
   "language": "python",
   "name": "python3"
  },
  "language_info": {
   "codemirror_mode": {
    "name": "ipython",
    "version": 3
   },
   "file_extension": ".py",
   "mimetype": "text/x-python",
   "name": "python",
   "nbconvert_exporter": "python",
   "pygments_lexer": "ipython3",
   "version": "3.9.6"
  },
  "orig_nbformat": 4,
  "vscode": {
   "interpreter": {
    "hash": "513788764cd0ec0f97313d5418a13e1ea666d16d72f976a8acadce25a5af2ffc"
   }
  }
 },
 "nbformat": 4,
 "nbformat_minor": 2
}

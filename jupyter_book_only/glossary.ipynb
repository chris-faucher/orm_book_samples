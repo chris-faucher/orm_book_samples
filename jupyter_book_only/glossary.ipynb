{
 "cells": [
  {
   "attachments": {},
   "cell_type": "markdown",
   "metadata": {},
   "source": [
    "(glossary)=\n",
    "# Glossary\n",
    "\n",
    "A glossary contains a collection of terms and brief descriptions or definitions of those terms. The basic Jupyter Book markup is as follows:\n",
    "\n",
    "```{glossary}\n",
    "Gloss Term\n",
    "  Gloss definition.\n",
    "\n",
    "Gloss Term 2\n",
    "  Gloss definition 2.\n",
    "```\n",
    "\n",
    "Alternatively, if you would like to use simple definition lists instead, that is also acceptable:\n",
    "\n",
    "Gloss Term\n",
    ": Gloss definition.\n",
    "\n",
    "Gloss Term 2\n",
    ": Gloss definition 2.\n",
    "\n"
   ]
  }
 ],
 "metadata": {
  "kernelspec": {
   "display_name": "Python 3",
   "language": "python",
   "name": "python3"
  },
  "language_info": {
   "name": "python",
   "version": "3.9.6 (default, Jun 13 2022, 11:08:50) \n[Clang 13.0.0 (clang-1300.0.29.30)]"
  },
  "orig_nbformat": 4,
  "vscode": {
   "interpreter": {
    "hash": "513788764cd0ec0f97313d5418a13e1ea666d16d72f976a8acadce25a5af2ffc"
   }
  }
 },
 "nbformat": 4,
 "nbformat_minor": 2
}
